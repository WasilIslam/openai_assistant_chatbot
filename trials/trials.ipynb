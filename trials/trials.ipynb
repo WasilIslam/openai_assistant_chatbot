{
 "cells": [
  {
   "cell_type": "code",
   "execution_count": 2,
   "metadata": {},
   "outputs": [
    {
     "name": "stdout",
     "output_type": "stream",
     "text": [
      "openai 1.44.0\n"
     ]
    }
   ],
   "source": [
    "!openai --version"
   ]
  },
  {
   "cell_type": "code",
   "execution_count": 1,
   "metadata": {},
   "outputs": [
    {
     "name": "stdout",
     "output_type": "stream",
     "text": [
      "Requirement already satisfied: openai in c:\\users\\alams\\anaconda3\\envs\\openai_assitannt_chatbot_env\\lib\\site-packages (1.28.0)\n",
      "Collecting openai\n",
      "  Using cached openai-1.44.0-py3-none-any.whl.metadata (22 kB)\n",
      "Requirement already satisfied: anyio<5,>=3.5.0 in c:\\users\\alams\\anaconda3\\envs\\openai_assitannt_chatbot_env\\lib\\site-packages (from openai) (4.4.0)\n",
      "Requirement already satisfied: distro<2,>=1.7.0 in c:\\users\\alams\\anaconda3\\envs\\openai_assitannt_chatbot_env\\lib\\site-packages (from openai) (1.9.0)\n",
      "Requirement already satisfied: httpx<1,>=0.23.0 in c:\\users\\alams\\anaconda3\\envs\\openai_assitannt_chatbot_env\\lib\\site-packages (from openai) (0.27.2)\n",
      "Requirement already satisfied: jiter<1,>=0.4.0 in c:\\users\\alams\\anaconda3\\envs\\openai_assitannt_chatbot_env\\lib\\site-packages (from openai) (0.5.0)\n",
      "Requirement already satisfied: pydantic<3,>=1.9.0 in c:\\users\\alams\\anaconda3\\envs\\openai_assitannt_chatbot_env\\lib\\site-packages (from openai) (2.9.0)\n",
      "Requirement already satisfied: sniffio in c:\\users\\alams\\anaconda3\\envs\\openai_assitannt_chatbot_env\\lib\\site-packages (from openai) (1.3.1)\n",
      "Requirement already satisfied: tqdm>4 in c:\\users\\alams\\anaconda3\\envs\\openai_assitannt_chatbot_env\\lib\\site-packages (from openai) (4.66.5)\n",
      "Requirement already satisfied: typing-extensions<5,>=4.11 in c:\\users\\alams\\anaconda3\\envs\\openai_assitannt_chatbot_env\\lib\\site-packages (from openai) (4.12.2)\n",
      "Requirement already satisfied: idna>=2.8 in c:\\users\\alams\\anaconda3\\envs\\openai_assitannt_chatbot_env\\lib\\site-packages (from anyio<5,>=3.5.0->openai) (3.8)\n",
      "Requirement already satisfied: certifi in c:\\users\\alams\\anaconda3\\envs\\openai_assitannt_chatbot_env\\lib\\site-packages (from httpx<1,>=0.23.0->openai) (2024.8.30)\n",
      "Requirement already satisfied: httpcore==1.* in c:\\users\\alams\\anaconda3\\envs\\openai_assitannt_chatbot_env\\lib\\site-packages (from httpx<1,>=0.23.0->openai) (1.0.5)\n",
      "Requirement already satisfied: h11<0.15,>=0.13 in c:\\users\\alams\\anaconda3\\envs\\openai_assitannt_chatbot_env\\lib\\site-packages (from httpcore==1.*->httpx<1,>=0.23.0->openai) (0.14.0)\n",
      "Requirement already satisfied: annotated-types>=0.4.0 in c:\\users\\alams\\anaconda3\\envs\\openai_assitannt_chatbot_env\\lib\\site-packages (from pydantic<3,>=1.9.0->openai) (0.7.0)\n",
      "Requirement already satisfied: pydantic-core==2.23.2 in c:\\users\\alams\\anaconda3\\envs\\openai_assitannt_chatbot_env\\lib\\site-packages (from pydantic<3,>=1.9.0->openai) (2.23.2)\n",
      "Requirement already satisfied: tzdata in c:\\users\\alams\\anaconda3\\envs\\openai_assitannt_chatbot_env\\lib\\site-packages (from pydantic<3,>=1.9.0->openai) (2024.1)\n",
      "Requirement already satisfied: colorama in c:\\users\\alams\\anaconda3\\envs\\openai_assitannt_chatbot_env\\lib\\site-packages (from tqdm>4->openai) (0.4.6)\n",
      "Using cached openai-1.44.0-py3-none-any.whl (367 kB)\n",
      "Installing collected packages: openai\n",
      "  Attempting uninstall: openai\n",
      "    Found existing installation: openai 1.28.0\n",
      "    Uninstalling openai-1.28.0:\n",
      "      Successfully uninstalled openai-1.28.0\n",
      "Successfully installed openai-1.44.0\n"
     ]
    },
    {
     "name": "stderr",
     "output_type": "stream",
     "text": [
      "WARNING: Retrying (Retry(total=4, connect=None, read=None, redirect=None, status=None)) after connection broken by 'NewConnectionError('<pip._vendor.urllib3.connection.HTTPSConnection object at 0x000001F8492B1F90>: Failed to establish a new connection: [Errno 11001] getaddrinfo failed')': /simple/openai/\n",
      "WARNING: Retrying (Retry(total=3, connect=None, read=None, redirect=None, status=None)) after connection broken by 'NewConnectionError('<pip._vendor.urllib3.connection.HTTPSConnection object at 0x000001F8492B22D0>: Failed to establish a new connection: [Errno 11001] getaddrinfo failed')': /simple/openai/\n",
      "WARNING: Retrying (Retry(total=2, connect=None, read=None, redirect=None, status=None)) after connection broken by 'NewConnectionError('<pip._vendor.urllib3.connection.HTTPSConnection object at 0x000001F8492B3190>: Failed to establish a new connection: [Errno 11001] getaddrinfo failed')': /simple/openai/\n"
     ]
    }
   ],
   "source": [
    "!pip install openai --upgrade"
   ]
  },
  {
   "cell_type": "code",
   "execution_count": 3,
   "metadata": {},
   "outputs": [],
   "source": [
    "import os\n",
    "directory_folder = \"data\"\n",
    "\n",
    "pdf_files = [os.path.join(directory_folder,file_name) for file_name in os.listdir(directory_folder) \\\n",
    "          if os.path.isfile(os.path.join(directory_folder,file_name))]\n",
    "\n"
   ]
  },
  {
   "cell_type": "code",
   "execution_count": 4,
   "metadata": {},
   "outputs": [],
   "source": [
    "# Dictionary to store documents with filename as keys\n",
    "\n",
    "from langchain.document_loaders import PyPDFLoader\n",
    "\n",
    "documents_dict = {}\n",
    "for pdf_file in pdf_files:\n",
    "    loader = PyPDFLoader(pdf_file)\n",
    "    documents = loader.load()\n",
    "\n",
    "    doc_key = pdf_file.split(\"\\\\\")[1]\n",
    "    documents_dict[doc_key] = documents"
   ]
  },
  {
   "cell_type": "code",
   "execution_count": 5,
   "metadata": {},
   "outputs": [],
   "source": [
    "from langchain.embeddings import OpenAIEmbeddings\n",
    "os.environ['OPENAI_API_KEY'] = \"***********\"\n"
   ]
  },
  {
   "cell_type": "code",
   "execution_count": 6,
   "metadata": {},
   "outputs": [
    {
     "name": "stderr",
     "output_type": "stream",
     "text": [
      "C:\\Users\\alams\\AppData\\Local\\Temp\\ipykernel_8940\\909470085.py:1: LangChainDeprecationWarning: The class `OpenAIEmbeddings` was deprecated in LangChain 0.0.9 and will be removed in 1.0. An updated version of the class exists in the langchain-openai package and should be used instead. To use it run `pip install -U langchain-openai` and import as `from langchain_openai import OpenAIEmbeddings`.\n",
      "  embedding_model = OpenAIEmbeddings()\n"
     ]
    }
   ],
   "source": [
    "embedding_model = OpenAIEmbeddings()"
   ]
  },
  {
   "cell_type": "code",
   "execution_count": 7,
   "metadata": {},
   "outputs": [],
   "source": [
    "from langchain.schema import Document\n",
    "documents = []\n",
    "\n",
    "for filename, docs in documents_dict.items():\n",
    "    content = \"\".join([doc.page_content for doc in docs])\n",
    "    # embeddings = [embedding_model.embed_query(text) for text in texts]\n",
    "\n",
    "    documents.append(Document(page_content=content, metadata={\"source\": filename}))\n",
    "    # embedding_dict[filename] = embeddings\n",
    "    # embe"
   ]
  },
  {
   "cell_type": "code",
   "execution_count": 8,
   "metadata": {},
   "outputs": [],
   "source": [
    "\n",
    "PINECONE_API_KEY = \"**********\"\n",
    "os.environ['PINECONE_API_KEY']=PINECONE_API_KEY"
   ]
  },
  {
   "cell_type": "code",
   "execution_count": 9,
   "metadata": {},
   "outputs": [
    {
     "name": "stdout",
     "output_type": "stream",
     "text": [
      "openai 1.44.0\n"
     ]
    }
   ],
   "source": [
    "!openai --version"
   ]
  },
  {
   "cell_type": "code",
   "execution_count": 10,
   "metadata": {},
   "outputs": [
    {
     "name": "stderr",
     "output_type": "stream",
     "text": [
      "c:\\Users\\alams\\anaconda3\\envs\\openai_assitannt_chatbot_env\\Lib\\site-packages\\pinecone\\data\\index.py:1: TqdmWarning: IProgress not found. Please update jupyter and ipywidgets. See https://ipywidgets.readthedocs.io/en/stable/user_install.html\n",
      "  from tqdm.autonotebook import tqdm\n"
     ]
    }
   ],
   "source": [
    "from langchain_pinecone import PineconeVectorStore\n",
    "\n",
    "\n",
    "vector_store = PineconeVectorStore.from_documents(documents,embedding_model, index_name = \"pdf-program-index\" )\n"
   ]
  },
  {
   "cell_type": "code",
   "execution_count": 42,
   "metadata": {},
   "outputs": [],
   "source": [
    "\n",
    "# vector_store.delete(delete_all=True)"
   ]
  },
  {
   "cell_type": "code",
   "execution_count": 11,
   "metadata": {},
   "outputs": [],
   "source": [
    "from langchain.retrievers import BM25Retriever\n",
    "\n",
    "bm25_retriever = BM25Retriever.from_documents(documents)\n",
    "vectore_store_retriever = vector_store.as_retriever()"
   ]
  },
  {
   "cell_type": "code",
   "execution_count": 12,
   "metadata": {},
   "outputs": [],
   "source": [
    "vectore_store_retriever.search_kwargs = {\"k\":1}\n",
    "bm25_retriever.k = 1"
   ]
  },
  {
   "cell_type": "code",
   "execution_count": 13,
   "metadata": {},
   "outputs": [
    {
     "data": {
      "text/plain": [
       "[Document(metadata={'source': 'SNAP.pdf'}, page_content='Program Name: SNAP  \\nFood Stamps was renamed the Supplemental Nutrition Assistance Program (SNAP) in 2008  \\nAgency: Massachusetts Department of Transitional Assistance (DTA)  \\nDescription: SNAP is a federal nutrition program administered by the Department of Transitional \\nAssistance (DTA) for Massachusetts residents. The benefits can be used in food stores but not \\nrestaurants to purchase food items.  \\nEligibility:  \\nHousehold gross income not to exceed 130% of Federal Poverty Level and household net income not \\nto exceed 100% FPL to be eligible.   \\nDeductions and some exceptions apply to income determination. Asset limits and work requirements \\nalso apply.  \\nSNAP eligibility is based on who is in the household, income and certain expenses. “Eligibility ” means \\nwho can and can’t get the benefit.  \\nIf you aren ’t sure if you are eligible, apply! The agencywill talk to you and make a decision based on \\nthe rules. If you are approved, SNAP will go back to the date you applied.  \\nLimitations:  \\n\\uf0b7 SNAP benefits can be used to purchase food  items at most grocery stores, convenience \\nstores, and pharmacies (look for sign accepting EBT or Electronic Benefits Transfer cards).   \\n\\uf0b7 Hot foods and non -food items like alcohol, cigarettes, pet food, or medications are not \\ncovered.  \\n\\uf0b7 Teen parents: If teen i s living on her own, she can apply for SNAP herself. However, if teen is \\nunder age 22 and lives with natural or adoptive parents, or is under 18 living with other \\nadults, the parent or adult must apply for SNAP on behalf of teen and the household.  \\n\\uf0b7 Immigran ts: Many non -citizens are eligible for SNAP , such as those who have worked in the \\nU.S. for a certain amount of time or have come into the U.S. with a particular immigration \\nstatus. Even if head of household is undocumented, he/she should apply for other el igible \\nhousehold members.  \\n\\uf0b7 See www.gettingfoodstamps.org/helpforimmigrants.html for more information.  \\nAmount:  \\nRecipients do not receive cash; rather, a monthly credit appears on an EBT card which they swipe at \\nthe store.   \\nHousehold size, income, assets, and  living expenses taken into account when determining a family ’s \\nSNAP allotment. Maximum monthly amount: 1 person=$194, family of 4=$649.  \\n Household Size  Maximum Monthly Income (before \\ntaxes)  Maximum Monthly SNAP \\nAmount  \\n1 $2,510  $291  \\n2 $3,407  $535  \\n3 $4,303  $766  \\n4 $5,200  $973  \\n5 $6,097  $1,155  \\n6 $6,993  $1,386  \\n7 $7,890  $1,532  \\n8 $8,787  $1,751  \\nEach additional \\nperson  + $897  + $219  \\n \\nHow to Apply:  Apply at  http://internal_link.com/form/snap  \\n ')]"
      ]
     },
     "execution_count": 13,
     "metadata": {},
     "output_type": "execute_result"
    }
   ],
   "source": [
    "vectore_store_retriever.invoke(\"What is SNAP\")"
   ]
  },
  {
   "cell_type": "code",
   "execution_count": 14,
   "metadata": {},
   "outputs": [],
   "source": [
    "from langchain.retrievers import EnsembleRetriever\n",
    "ensemble_retriever = EnsembleRetriever(retrievers=[vectore_store_retriever, bm25_retriever], weights=[0.3, 0.7])"
   ]
  },
  {
   "cell_type": "code",
   "execution_count": 15,
   "metadata": {},
   "outputs": [
    {
     "data": {
      "text/plain": [
       "[Document(metadata={'source': 'SNAP.pdf'}, page_content='Program Name: SNAP  \\nFood Stamps was renamed the Supplemental Nutrition Assistance Program (SNAP) in 2008  \\nAgency: Massachusetts Department of Transitional Assistance (DTA)  \\nDescription: SNAP is a federal nutrition program administered by the Department of Transitional \\nAssistance (DTA) for Massachusetts residents. The benefits can be used in food stores but not \\nrestaurants to purchase food items.  \\nEligibility:  \\nHousehold gross income not to exceed 130% of Federal Poverty Level and household net income not \\nto exceed 100% FPL to be eligible.   \\nDeductions and some exceptions apply to income determination. Asset limits and work requirements \\nalso apply.  \\nSNAP eligibility is based on who is in the household, income and certain expenses. “Eligibility ” means \\nwho can and can’t get the benefit.  \\nIf you aren ’t sure if you are eligible, apply! The agencywill talk to you and make a decision based on \\nthe rules. If you are approved, SNAP will go back to the date you applied.  \\nLimitations:  \\n\\uf0b7 SNAP benefits can be used to purchase food  items at most grocery stores, convenience \\nstores, and pharmacies (look for sign accepting EBT or Electronic Benefits Transfer cards).   \\n\\uf0b7 Hot foods and non -food items like alcohol, cigarettes, pet food, or medications are not \\ncovered.  \\n\\uf0b7 Teen parents: If teen i s living on her own, she can apply for SNAP herself. However, if teen is \\nunder age 22 and lives with natural or adoptive parents, or is under 18 living with other \\nadults, the parent or adult must apply for SNAP on behalf of teen and the household.  \\n\\uf0b7 Immigran ts: Many non -citizens are eligible for SNAP , such as those who have worked in the \\nU.S. for a certain amount of time or have come into the U.S. with a particular immigration \\nstatus. Even if head of household is undocumented, he/she should apply for other el igible \\nhousehold members.  \\n\\uf0b7 See www.gettingfoodstamps.org/helpforimmigrants.html for more information.  \\nAmount:  \\nRecipients do not receive cash; rather, a monthly credit appears on an EBT card which they swipe at \\nthe store.   \\nHousehold size, income, assets, and  living expenses taken into account when determining a family ’s \\nSNAP allotment. Maximum monthly amount: 1 person=$194, family of 4=$649.  \\n Household Size  Maximum Monthly Income (before \\ntaxes)  Maximum Monthly SNAP \\nAmount  \\n1 $2,510  $291  \\n2 $3,407  $535  \\n3 $4,303  $766  \\n4 $5,200  $973  \\n5 $6,097  $1,155  \\n6 $6,993  $1,386  \\n7 $7,890  $1,532  \\n8 $8,787  $1,751  \\nEach additional \\nperson  + $897  + $219  \\n \\nHow to Apply:  Apply at  http://internal_link.com/form/snap  \\n ')]"
      ]
     },
     "execution_count": 15,
     "metadata": {},
     "output_type": "execute_result"
    }
   ],
   "source": [
    "ensemble_retriever.invoke(\"How to apply for SNAP?\")"
   ]
  },
  {
   "cell_type": "code",
   "execution_count": 71,
   "metadata": {},
   "outputs": [],
   "source": [
    "template = \"\"\"\n",
    "You are an assistant tasked with generating responses that include relevant hyperlinks when providing information. Based on the following user input, ensure that the response includes a hyperlink to any relevant forms, documents, or resources.\n",
    "\n",
    "Question: {question}\n",
    "\n",
    "Generate a response that:\n",
    "\n",
    "1. Ensure that the response includes a hyperlink to relevant forms or resources when applicable.\n",
    "2. Is kind, inviting, and supportive.\n",
    "3. If retrieved context source are `SNAP.PDF`or `WIC.pdf, and `Lifeline_Program.pdf` then in genearted response please include the link. \n",
    "4.. If a customer mentions filling out one form from `SNAP.PDF`or `WIC.pdf, and `Lifeline_Program.pdf, encourage them to fill out the other forms as well by providing their link\n",
    "\n",
    "\n",
    "Context: {context}\n",
    "Answer:\n",
    "\"\"\""
   ]
  },
  {
   "cell_type": "code",
   "execution_count": 72,
   "metadata": {},
   "outputs": [],
   "source": [
    "from langchain_openai import ChatOpenAI\n"
   ]
  },
  {
   "cell_type": "code",
   "execution_count": 36,
   "metadata": {},
   "outputs": [],
   "source": [
    "llm = ChatOpenAI(model_name=\"gpt-3.5-turbo\")"
   ]
  },
  {
   "cell_type": "code",
   "execution_count": 73,
   "metadata": {},
   "outputs": [],
   "source": [
    "from langchain.schema.runnable import RunnablePassthrough\n",
    "from langchain.schema.output_parser import StrOutputParser\n",
    "\n",
    "from langchain.prompts import ChatPromptTemplate\n",
    "\n",
    "prompt = ChatPromptTemplate.from_template(template)\n",
    "output_parser=StrOutputParser()"
   ]
  },
  {
   "cell_type": "code",
   "execution_count": 74,
   "metadata": {},
   "outputs": [],
   "source": [
    "rag_chain = (\n",
    "    {\"context\": vectore_store_retriever,  \"question\": RunnablePassthrough()}\n",
    "    | prompt\n",
    "    | llm\n",
    "    | output_parser\n",
    ")"
   ]
  },
  {
   "cell_type": "code",
   "execution_count": 75,
   "metadata": {},
   "outputs": [
    {
     "name": "stdout",
     "output_type": "stream",
     "text": [
      "The Lifeline Program is a federal initiative led by the Federal Communications Commission (FCC) that aims to provide free or low-cost phone or internet service to low-income households. Eligible participants can receive a monthly discount of up to $9.25 to apply towards phone service, internet service, or a wireless phone plan.\n",
      "\n",
      "To check if you qualify for the Lifeline Program based on income or participation in certain federal assistance programs like Medicaid, SNAP, SSI, Federal Public Housing Assistance, or Veterans Pension and Survivors Benefit, you can find more information in the Lifeline_Program.pdf document.\n",
      "\n",
      "If you are interested in applying for the Lifeline Program or learning more about the application process, you can access the online application form here: [Lifeline Program Application Form](http://internal_link.com/form/digital).\n",
      "\n",
      "Additionally, if you have already filled out forms from SNAP.PDF or WIC.pdf, I encourage you to consider applying for the Lifeline Program as well to maximize the benefits available to you. Feel free to reach out if you need any assistance with the application process.\n"
     ]
    }
   ],
   "source": [
    "print(rag_chain.invoke(\"What is Lifeline Program?\"))"
   ]
  },
  {
   "cell_type": "code",
   "execution_count": 77,
   "metadata": {},
   "outputs": [
    {
     "name": "stdout",
     "output_type": "stream",
     "text": [
      "Thank you for your interest in the Lifeline Program! To apply for the program, you can fill out the form online by visiting this link: [Lifeline Program Online Application Form](http://internal_link.com/form/digital). \n",
      "\n",
      "If you have already filled out the form for the Lifeline Program, I encourage you to also consider applying for other programs such as SNAP (Supplemental Nutrition Assistance Program) by filling out the form available here: [SNAP Application Form](http://external_link.com/SNAP.pdf) and WIC (Women, Infants, and Children) by filling out the form available here: [WIC Application Form](http://external_link.com/WIC.pdf). \n",
      "\n",
      "Feel free to reach out if you have any questions or need assistance with the application process. We are here to help!\n"
     ]
    }
   ],
   "source": [
    "print(rag_chain.invoke(\"I have fill up the form lifeline program\"))"
   ]
  },
  {
   "cell_type": "code",
   "execution_count": null,
   "metadata": {},
   "outputs": [],
   "source": []
  }
 ],
 "metadata": {
  "kernelspec": {
   "display_name": "openai_assitannt_chatbot_env",
   "language": "python",
   "name": "python3"
  },
  "language_info": {
   "codemirror_mode": {
    "name": "ipython",
    "version": 3
   },
   "file_extension": ".py",
   "mimetype": "text/x-python",
   "name": "python",
   "nbconvert_exporter": "python",
   "pygments_lexer": "ipython3",
   "version": "3.11.9"
  }
 },
 "nbformat": 4,
 "nbformat_minor": 2
}
